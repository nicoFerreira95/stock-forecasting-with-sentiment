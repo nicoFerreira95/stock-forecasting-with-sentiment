{
 "cells": [
  {
   "attachments": {},
   "cell_type": "markdown",
   "metadata": {},
   "source": [
    "# Multivariate modeling\n",
    "In this notebook, we will use the newly generated sentiment score features and run the following forecasting models:\n",
    "* Univariate modeling on ETF index with external regressors (ARIMA)\n",
    "* Multivariate modeling with ETF and sentiment features (VARMA)\n",
    "* Granger causality testing. Hypothesis: does online media sentiment Granger causes ETF index price?"
   ]
  },
  {
   "cell_type": "code",
   "execution_count": null,
   "metadata": {},
   "outputs": [],
   "source": []
  }
 ],
 "metadata": {
  "language_info": {
   "name": "python"
  },
  "orig_nbformat": 4
 },
 "nbformat": 4,
 "nbformat_minor": 2
}

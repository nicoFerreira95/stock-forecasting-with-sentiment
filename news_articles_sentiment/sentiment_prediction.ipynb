{
 "cells": [
  {
   "cell_type": "markdown",
   "id": "115d6df8-fcf5-4b32-bc9a-753fd92f9cc3",
   "metadata": {},
   "source": [
    "# Time Series Final Project\n",
    "## News Articles EDA\n",
    "In the following part, we will focus on obtaining sentiment scores for news articles centered around technology topics. More specifically, we would like to focus on articles mentioning companies that are captured under the MiraeAsset TIGER US Tech Top10 INDXX (https://www.bloomberg.com/quote/381170:KS#xj4y7vzkg)\n",
    "\n",
    "Companies under the index are:\n",
    "* Microsoft Corp. MSFT:US.\n",
    "* Apple Inc. AAPL:US. 1.3579M.\n",
    "* Alphabet Inc. GOOGL:US. 1.9099M.\n",
    "* Amazon.com Inc. AMZN:US.\n",
    "* NVIDIA Corp. NVDA:US.\n",
    "* Meta Platforms Inc. META:US.\n",
    "* Tesla Inc. TSLA:US. 402.9600K.\n",
    "* Broadcom Inc. AVGO:US. 60.7200K."
   ]
  },
  {
   "cell_type": "code",
   "execution_count": 3,
   "id": "a7a8e0e4-4283-49ae-a5af-68f88f57cb86",
   "metadata": {},
   "outputs": [
    {
     "name": "stdout",
     "output_type": "stream",
     "text": [
      "Collecting transformers\n",
      "  Downloading transformers-4.29.2-py3-none-any.whl (7.1 MB)\n",
      "\u001b[2K     \u001b[90m━━━━━━━━━━━━━━━━━━━━━━━━━━━━━━━━━━━━━━━━\u001b[0m \u001b[32m7.1/7.1 MB\u001b[0m \u001b[31m38.6 MB/s\u001b[0m eta \u001b[36m0:00:00\u001b[0m00:01\u001b[0m00:01\u001b[0m\n",
      "\u001b[?25hCollecting xformers\n",
      "  Downloading xformers-0.0.16-cp37-cp37m-manylinux2014_x86_64.whl (50.9 MB)\n",
      "\u001b[2K     \u001b[90m━━━━━━━━━━━━━━━━━━━━━━━━━━━━━━━━━━━━━━━━\u001b[0m \u001b[32m50.9/50.9 MB\u001b[0m \u001b[31m24.6 MB/s\u001b[0m eta \u001b[36m0:00:00\u001b[0m00:01\u001b[0m00:01\u001b[0m\n",
      "\u001b[?25hRequirement already satisfied: pandarallel in /opt/conda/lib/python3.7/site-packages (1.6.5)\n",
      "Requirement already satisfied: filelock in /opt/conda/lib/python3.7/site-packages (from transformers) (3.12.0)\n",
      "Collecting huggingface-hub<1.0,>=0.14.1 (from transformers)\n",
      "  Downloading huggingface_hub-0.14.1-py3-none-any.whl (224 kB)\n",
      "\u001b[2K     \u001b[90m━━━━━━━━━━━━━━━━━━━━━━━━━━━━━━━━━━━━━━\u001b[0m \u001b[32m224.5/224.5 kB\u001b[0m \u001b[31m15.9 MB/s\u001b[0m eta \u001b[36m0:00:00\u001b[0m\n",
      "\u001b[?25hRequirement already satisfied: numpy>=1.17 in /opt/conda/lib/python3.7/site-packages (from transformers) (1.21.6)\n",
      "Requirement already satisfied: packaging>=20.0 in /opt/conda/lib/python3.7/site-packages (from transformers) (23.1)\n",
      "Requirement already satisfied: pyyaml>=5.1 in /opt/conda/lib/python3.7/site-packages (from transformers) (6.0)\n",
      "Collecting regex!=2019.12.17 (from transformers)\n",
      "  Downloading regex-2023.5.5-cp37-cp37m-manylinux_2_17_x86_64.manylinux2014_x86_64.whl (756 kB)\n",
      "\u001b[2K     \u001b[90m━━━━━━━━━━━━━━━━━━━━━━━━━━━━━━━━━━━━━━\u001b[0m \u001b[32m756.6/756.6 kB\u001b[0m \u001b[31m34.9 MB/s\u001b[0m eta \u001b[36m0:00:00\u001b[0m\n",
      "\u001b[?25hRequirement already satisfied: requests in /opt/conda/lib/python3.7/site-packages (from transformers) (2.28.2)\n",
      "Collecting tokenizers!=0.11.3,<0.14,>=0.11.1 (from transformers)\n",
      "  Downloading tokenizers-0.13.3-cp37-cp37m-manylinux_2_17_x86_64.manylinux2014_x86_64.whl (7.8 MB)\n",
      "\u001b[2K     \u001b[90m━━━━━━━━━━━━━━━━━━━━━━━━━━━━━━━━━━━━━━━━\u001b[0m \u001b[32m7.8/7.8 MB\u001b[0m \u001b[31m88.4 MB/s\u001b[0m eta \u001b[36m0:00:00\u001b[0m:00:01\u001b[0m00:01\u001b[0m\n",
      "\u001b[?25hRequirement already satisfied: tqdm>=4.27 in /opt/conda/lib/python3.7/site-packages (from transformers) (4.64.1)\n",
      "Requirement already satisfied: importlib-metadata in /opt/conda/lib/python3.7/site-packages (from transformers) (4.11.4)\n",
      "Collecting pyre-extensions==0.0.23 (from xformers)\n",
      "  Downloading pyre_extensions-0.0.23-py3-none-any.whl (11 kB)\n",
      "Collecting torch==1.13.1 (from xformers)\n",
      "  Downloading torch-1.13.1-cp37-cp37m-manylinux1_x86_64.whl (887.5 MB)\n",
      "\u001b[2K     \u001b[90m━━━━━━━━━━━━━━━━━━━━━━━━━━━━━━━━━━━━━━━\u001b[0m \u001b[32m887.5/887.5 MB\u001b[0m \u001b[31m1.0 MB/s\u001b[0m eta \u001b[36m0:00:00\u001b[0m00:01\u001b[0m00:01\u001b[0m\n",
      "\u001b[?25hCollecting typing-inspect (from pyre-extensions==0.0.23->xformers)\n",
      "  Downloading typing_inspect-0.8.0-py3-none-any.whl (8.7 kB)\n",
      "Requirement already satisfied: typing-extensions in /opt/conda/lib/python3.7/site-packages (from pyre-extensions==0.0.23->xformers) (4.5.0)\n",
      "Collecting nvidia-cuda-runtime-cu11==11.7.99 (from torch==1.13.1->xformers)\n",
      "  Downloading nvidia_cuda_runtime_cu11-11.7.99-py3-none-manylinux1_x86_64.whl (849 kB)\n",
      "\u001b[2K     \u001b[90m━━━━━━━━━━━━━━━━━━━━━━━━━━━━━━━━━━━━━━\u001b[0m \u001b[32m849.3/849.3 kB\u001b[0m \u001b[31m32.6 MB/s\u001b[0m eta \u001b[36m0:00:00\u001b[0m\n",
      "\u001b[?25hCollecting nvidia-cudnn-cu11==8.5.0.96 (from torch==1.13.1->xformers)\n",
      "  Downloading nvidia_cudnn_cu11-8.5.0.96-2-py3-none-manylinux1_x86_64.whl (557.1 MB)\n",
      "\u001b[2K     \u001b[90m━━━━━━━━━━━━━━━━━━━━━━━━━━━━━━━━━━━━━━━\u001b[0m \u001b[32m557.1/557.1 MB\u001b[0m \u001b[31m1.8 MB/s\u001b[0m eta \u001b[36m0:00:00\u001b[0m00:01\u001b[0m00:01\u001b[0m\n",
      "\u001b[?25hCollecting nvidia-cublas-cu11==11.10.3.66 (from torch==1.13.1->xformers)\n",
      "  Downloading nvidia_cublas_cu11-11.10.3.66-py3-none-manylinux1_x86_64.whl (317.1 MB)\n",
      "\u001b[2K     \u001b[90m━━━━━━━━━━━━━━━━━━━━━━━━━━━━━━━━━━━━━━━\u001b[0m \u001b[32m317.1/317.1 MB\u001b[0m \u001b[31m2.4 MB/s\u001b[0m eta \u001b[36m0:00:00\u001b[0m00:01\u001b[0m00:01\u001b[0m\n",
      "\u001b[?25hCollecting nvidia-cuda-nvrtc-cu11==11.7.99 (from torch==1.13.1->xformers)\n",
      "  Downloading nvidia_cuda_nvrtc_cu11-11.7.99-2-py3-none-manylinux1_x86_64.whl (21.0 MB)\n",
      "\u001b[2K     \u001b[90m━━━━━━━━━━━━━━━━━━━━━━━━━━━━━━━━━━━━━━━━\u001b[0m \u001b[32m21.0/21.0 MB\u001b[0m \u001b[31m24.3 MB/s\u001b[0m eta \u001b[36m0:00:00\u001b[0m00:01\u001b[0m00:01\u001b[0m\n",
      "\u001b[?25hRequirement already satisfied: setuptools in /opt/conda/lib/python3.7/site-packages (from nvidia-cublas-cu11==11.10.3.66->torch==1.13.1->xformers) (67.7.2)\n",
      "Requirement already satisfied: wheel in /opt/conda/lib/python3.7/site-packages (from nvidia-cublas-cu11==11.10.3.66->torch==1.13.1->xformers) (0.40.0)\n",
      "Requirement already satisfied: dill>=0.3.1 in /opt/conda/lib/python3.7/site-packages (from pandarallel) (0.3.6)\n",
      "Requirement already satisfied: pandas>=1 in /opt/conda/lib/python3.7/site-packages (from pandarallel) (1.3.5)\n",
      "Requirement already satisfied: psutil in /opt/conda/lib/python3.7/site-packages (from pandarallel) (5.9.3)\n",
      "Requirement already satisfied: fsspec in /opt/conda/lib/python3.7/site-packages (from huggingface-hub<1.0,>=0.14.1->transformers) (2023.1.0)\n",
      "Requirement already satisfied: python-dateutil>=2.7.3 in /opt/conda/lib/python3.7/site-packages (from pandas>=1->pandarallel) (2.8.2)\n",
      "Requirement already satisfied: pytz>=2017.3 in /opt/conda/lib/python3.7/site-packages (from pandas>=1->pandarallel) (2023.3)\n",
      "Requirement already satisfied: zipp>=0.5 in /opt/conda/lib/python3.7/site-packages (from importlib-metadata->transformers) (3.15.0)\n",
      "Requirement already satisfied: charset-normalizer<4,>=2 in /opt/conda/lib/python3.7/site-packages (from requests->transformers) (3.1.0)\n",
      "Requirement already satisfied: idna<4,>=2.5 in /opt/conda/lib/python3.7/site-packages (from requests->transformers) (3.4)\n",
      "Requirement already satisfied: urllib3<1.27,>=1.21.1 in /opt/conda/lib/python3.7/site-packages (from requests->transformers) (1.26.15)\n",
      "Requirement already satisfied: certifi>=2017.4.17 in /opt/conda/lib/python3.7/site-packages (from requests->transformers) (2022.12.7)\n",
      "Requirement already satisfied: six>=1.5 in /opt/conda/lib/python3.7/site-packages (from python-dateutil>=2.7.3->pandas>=1->pandarallel) (1.16.0)\n",
      "Collecting mypy-extensions>=0.3.0 (from typing-inspect->pyre-extensions==0.0.23->xformers)\n",
      "  Downloading mypy_extensions-1.0.0-py3-none-any.whl (4.7 kB)\n",
      "Installing collected packages: tokenizers, regex, nvidia-cuda-runtime-cu11, nvidia-cuda-nvrtc-cu11, nvidia-cublas-cu11, mypy-extensions, typing-inspect, nvidia-cudnn-cu11, huggingface-hub, transformers, torch, pyre-extensions, xformers\n",
      "Successfully installed huggingface-hub-0.14.1 mypy-extensions-1.0.0 nvidia-cublas-cu11-11.10.3.66 nvidia-cuda-nvrtc-cu11-11.7.99 nvidia-cuda-runtime-cu11-11.7.99 nvidia-cudnn-cu11-8.5.0.96 pyre-extensions-0.0.23 regex-2023.5.5 tokenizers-0.13.3 torch-1.13.1 transformers-4.29.2 typing-inspect-0.8.0 xformers-0.0.16\n",
      "Note: you may need to restart the kernel to use updated packages.\n"
     ]
    }
   ],
   "source": [
    "%pip install transformers xformers pandarallel"
   ]
  },
  {
   "cell_type": "code",
   "execution_count": 4,
   "id": "66e9b4d2-2c63-49be-a0b9-4a95156d9fd3",
   "metadata": {},
   "outputs": [
    {
     "data": {
      "application/vnd.jupyter.widget-view+json": {
       "model_id": "f7ee7791df08485498186001ec07b78e",
       "version_major": 2,
       "version_minor": 0
      },
      "text/plain": [
       "Downloading (…)lve/main/config.json:   0%|          | 0.00/687 [00:00<?, ?B/s]"
      ]
     },
     "metadata": {},
     "output_type": "display_data"
    },
    {
     "data": {
      "application/vnd.jupyter.widget-view+json": {
       "model_id": "795b7abb92844dd699eef7ab9a782766",
       "version_major": 2,
       "version_minor": 0
      },
      "text/plain": [
       "Downloading pytorch_model.bin:   0%|          | 0.00/1.42G [00:00<?, ?B/s]"
      ]
     },
     "metadata": {},
     "output_type": "display_data"
    },
    {
     "data": {
      "application/vnd.jupyter.widget-view+json": {
       "model_id": "a693fbdbfa224fc3ac060a4b35ecb720",
       "version_major": 2,
       "version_minor": 0
      },
      "text/plain": [
       "Downloading (…)okenizer_config.json:   0%|          | 0.00/256 [00:00<?, ?B/s]"
      ]
     },
     "metadata": {},
     "output_type": "display_data"
    },
    {
     "data": {
      "application/vnd.jupyter.widget-view+json": {
       "model_id": "e2c461b78a764927ab96033c764bc729",
       "version_major": 2,
       "version_minor": 0
      },
      "text/plain": [
       "Downloading (…)olve/main/vocab.json:   0%|          | 0.00/798k [00:00<?, ?B/s]"
      ]
     },
     "metadata": {},
     "output_type": "display_data"
    },
    {
     "data": {
      "application/vnd.jupyter.widget-view+json": {
       "model_id": "506854c4d14c48a38c89357fecadc244",
       "version_major": 2,
       "version_minor": 0
      },
      "text/plain": [
       "Downloading (…)olve/main/merges.txt:   0%|          | 0.00/456k [00:00<?, ?B/s]"
      ]
     },
     "metadata": {},
     "output_type": "display_data"
    },
    {
     "data": {
      "application/vnd.jupyter.widget-view+json": {
       "model_id": "6f2889a0cad142baafde459499ad7b22",
       "version_major": 2,
       "version_minor": 0
      },
      "text/plain": [
       "Downloading (…)cial_tokens_map.json:   0%|          | 0.00/150 [00:00<?, ?B/s]"
      ]
     },
     "metadata": {},
     "output_type": "display_data"
    }
   ],
   "source": [
    "import pandas as pd\n",
    "\n",
    "from transformers import pipeline\n",
    "sentiment_analysis = pipeline(\"sentiment-analysis\",model=\"siebert/sentiment-roberta-large-english\")"
   ]
  },
  {
   "cell_type": "code",
   "execution_count": 5,
   "id": "089f7b51-7c17-4121-b440-3a7c0028eea9",
   "metadata": {},
   "outputs": [
    {
     "name": "stdout",
     "output_type": "stream",
     "text": [
      "Available CPUs: 8\n"
     ]
    }
   ],
   "source": [
    "import multiprocessing\n",
    "\n",
    "num_processors = multiprocessing.cpu_count()\n",
    "print(f'Available CPUs: {num_processors}')"
   ]
  },
  {
   "cell_type": "code",
   "execution_count": 6,
   "id": "41b1badc-6be8-4ea8-89e2-a092720ce039",
   "metadata": {},
   "outputs": [],
   "source": [
    "df_news = pd.read_parquet('https://storage.googleapis.com/msca-bdp-data-open/news_final_project/news_final_project.parquet', engine='pyarrow')"
   ]
  },
  {
   "cell_type": "code",
   "execution_count": 7,
   "id": "08d419cf-8fdb-4134-967e-666803c7018c",
   "metadata": {},
   "outputs": [
    {
     "data": {
      "text/html": [
       "<div>\n",
       "<style scoped>\n",
       "    .dataframe tbody tr th:only-of-type {\n",
       "        vertical-align: middle;\n",
       "    }\n",
       "\n",
       "    .dataframe tbody tr th {\n",
       "        vertical-align: top;\n",
       "    }\n",
       "\n",
       "    .dataframe thead th {\n",
       "        text-align: right;\n",
       "    }\n",
       "</style>\n",
       "<table border=\"1\" class=\"dataframe\">\n",
       "  <thead>\n",
       "    <tr style=\"text-align: right;\">\n",
       "      <th></th>\n",
       "      <th>url</th>\n",
       "      <th>date</th>\n",
       "      <th>language</th>\n",
       "      <th>title</th>\n",
       "      <th>text</th>\n",
       "    </tr>\n",
       "  </thead>\n",
       "  <tbody>\n",
       "    <tr>\n",
       "      <th>0</th>\n",
       "      <td>http://en.people.cn/n3/2021/0318/c90000-983012...</td>\n",
       "      <td>2021-03-18</td>\n",
       "      <td>en</td>\n",
       "      <td>Artificial intelligence improves parking effic...</td>\n",
       "      <td>\\n\\nArtificial intelligence improves parking e...</td>\n",
       "    </tr>\n",
       "    <tr>\n",
       "      <th>1</th>\n",
       "      <td>http://newsparliament.com/2020/02/27/children-...</td>\n",
       "      <td>2020-02-27</td>\n",
       "      <td>en</td>\n",
       "      <td>Children With Autism Saw Their Learning and So...</td>\n",
       "      <td>\\nChildren With Autism Saw Their Learning and ...</td>\n",
       "    </tr>\n",
       "    <tr>\n",
       "      <th>2</th>\n",
       "      <td>http://www.dataweek.co.za/12835r</td>\n",
       "      <td>2021-03-26</td>\n",
       "      <td>en</td>\n",
       "      <td>Forget ML, AI and Industry 4.0 – obsolescence ...</td>\n",
       "      <td>\\n\\nForget ML, AI and Industry 4.0 – obsolesce...</td>\n",
       "    </tr>\n",
       "    <tr>\n",
       "      <th>3</th>\n",
       "      <td>http://www.homeoffice.consumerelectronicsnet.c...</td>\n",
       "      <td>2021-03-10</td>\n",
       "      <td>en</td>\n",
       "      <td>Strategy Analytics: 71% of Smartphones Sold Gl...</td>\n",
       "      <td>\\n\\nStrategy Analytics: 71% of Smartphones Sol...</td>\n",
       "    </tr>\n",
       "    <tr>\n",
       "      <th>4</th>\n",
       "      <td>http://www.itbusinessnet.com/2020/10/olympus-t...</td>\n",
       "      <td>2020-10-20</td>\n",
       "      <td>en</td>\n",
       "      <td>Olympus to Support Endoscopic AI Diagnosis Edu...</td>\n",
       "      <td>\\n\\nOlympus to Support Endoscopic AI Diagnosis...</td>\n",
       "    </tr>\n",
       "  </tbody>\n",
       "</table>\n",
       "</div>"
      ],
      "text/plain": [
       "                                                 url        date language  \\\n",
       "0  http://en.people.cn/n3/2021/0318/c90000-983012...  2021-03-18       en   \n",
       "1  http://newsparliament.com/2020/02/27/children-...  2020-02-27       en   \n",
       "2                   http://www.dataweek.co.za/12835r  2021-03-26       en   \n",
       "3  http://www.homeoffice.consumerelectronicsnet.c...  2021-03-10       en   \n",
       "4  http://www.itbusinessnet.com/2020/10/olympus-t...  2020-10-20       en   \n",
       "\n",
       "                                               title  \\\n",
       "0  Artificial intelligence improves parking effic...   \n",
       "1  Children With Autism Saw Their Learning and So...   \n",
       "2  Forget ML, AI and Industry 4.0 – obsolescence ...   \n",
       "3  Strategy Analytics: 71% of Smartphones Sold Gl...   \n",
       "4  Olympus to Support Endoscopic AI Diagnosis Edu...   \n",
       "\n",
       "                                                text  \n",
       "0  \\n\\nArtificial intelligence improves parking e...  \n",
       "1  \\nChildren With Autism Saw Their Learning and ...  \n",
       "2  \\n\\nForget ML, AI and Industry 4.0 – obsolesce...  \n",
       "3  \\n\\nStrategy Analytics: 71% of Smartphones Sol...  \n",
       "4  \\n\\nOlympus to Support Endoscopic AI Diagnosis...  "
      ]
     },
     "execution_count": 7,
     "metadata": {},
     "output_type": "execute_result"
    }
   ],
   "source": [
    "df_news.head()"
   ]
  },
  {
   "cell_type": "markdown",
   "id": "3686f15e-64af-464a-b33f-90923875b272",
   "metadata": {},
   "source": [
    "Let's start doing some EDA and cleaning our text column to feed into a sentiment analysis pipeline"
   ]
  },
  {
   "cell_type": "code",
   "execution_count": 8,
   "id": "cc316566-2934-4437-a2ce-a2b928cb52f0",
   "metadata": {},
   "outputs": [
    {
     "name": "stdout",
     "output_type": "stream",
     "text": [
      "Minimum date: 2020-01-01 00:00:00\n",
      "Maximum date: 2023-04-28 00:00:00\n"
     ]
    }
   ],
   "source": [
    "# Assuming you have a pandas DataFrame named 'df' with a 'date' column\n",
    "df_news['date'] = pd.to_datetime(df_news['date'])  # Convert 'date' column to pandas Timestamp if not already\n",
    "\n",
    "min_date = df_news['date'].min()\n",
    "max_date = df_news['date'].max()\n",
    "\n",
    "print(\"Minimum date:\", min_date)\n",
    "print(\"Maximum date:\", max_date)"
   ]
  },
  {
   "cell_type": "code",
   "execution_count": 12,
   "id": "7e650b6a-d484-4095-b02f-f3d556d504e1",
   "metadata": {},
   "outputs": [],
   "source": [
    "# !pip install nltk"
   ]
  },
  {
   "cell_type": "code",
   "execution_count": 13,
   "id": "05af22b0-0a72-4c23-81f5-9f91a07de052",
   "metadata": {},
   "outputs": [
    {
     "name": "stderr",
     "output_type": "stream",
     "text": [
      "[nltk_data] Downloading package stopwords to\n",
      "[nltk_data]     /home/jupyter/nltk_data...\n",
      "[nltk_data]   Unzipping corpora/stopwords.zip.\n"
     ]
    },
    {
     "data": {
      "text/plain": [
       "True"
      ]
     },
     "execution_count": 13,
     "metadata": {},
     "output_type": "execute_result"
    }
   ],
   "source": [
    "import nltk\n",
    "from nltk.corpus import stopwords\n",
    "import string\n",
    "\n",
    "nltk.download('stopwords')"
   ]
  },
  {
   "cell_type": "markdown",
   "id": "5fc04989-4680-41ec-8707-bec21b2774a6",
   "metadata": {},
   "source": [
    "### Preprocessing the text"
   ]
  },
  {
   "cell_type": "code",
   "execution_count": 14,
   "id": "b61d06a1-9ebc-4368-b4aa-d4e08c8bffa9",
   "metadata": {},
   "outputs": [
    {
     "name": "stdout",
     "output_type": "stream",
     "text": [
      "INFO: Pandarallel will run on 7 workers.\n",
      "INFO: Pandarallel will use standard multiprocessing data transfer (pipe) to transfer data between the main process and workers.\n"
     ]
    }
   ],
   "source": [
    "from pandarallel import pandarallel\n",
    "\n",
    "pandarallel.initialize(nb_workers=num_processors-1, use_memory_fs=False, progress_bar=True)"
   ]
  },
  {
   "cell_type": "code",
   "execution_count": 15,
   "id": "d4ab6dfb-7127-43af-993b-41088738ee23",
   "metadata": {},
   "outputs": [
    {
     "data": {
      "application/vnd.jupyter.widget-view+json": {
       "model_id": "6a9991ad2896486a9016294c9970f187",
       "version_major": 2,
       "version_minor": 0
      },
      "text/plain": [
       "VBox(children=(HBox(children=(IntProgress(value=0, description='0.00%', max=28619), Label(value='0 / 28619')))…"
      ]
     },
     "metadata": {},
     "output_type": "display_data"
    }
   ],
   "source": [
    "def preprocess_text(text):\n",
    "    # Remove punctuation and numbers\n",
    "    text = text.translate(str.maketrans('', '', string.punctuation + string.digits))\n",
    "    \n",
    "    # Convert text to lowercase\n",
    "    text = text.lower()\n",
    "    \n",
    "    # Tokenize the text\n",
    "    tokens = text.split()\n",
    "    \n",
    "    # Remove stop words\n",
    "    stop_words = set(stopwords.words('english'))\n",
    "    tokens = [word for word in tokens if word not in stop_words]\n",
    "    \n",
    "    # Join the tokens back into a single string\n",
    "    preprocessed_text = ' '.join(tokens)\n",
    "    \n",
    "    return preprocessed_text\n",
    "\n",
    "df_processed = df_news.copy()\n",
    "df_processed['text_processed'] = df_processed['text'].parallel_apply(preprocess_text)"
   ]
  },
  {
   "cell_type": "code",
   "execution_count": 16,
   "id": "4c0cafe7-17c2-445c-b834-239559d79f77",
   "metadata": {},
   "outputs": [
    {
     "data": {
      "text/html": [
       "<div>\n",
       "<style scoped>\n",
       "    .dataframe tbody tr th:only-of-type {\n",
       "        vertical-align: middle;\n",
       "    }\n",
       "\n",
       "    .dataframe tbody tr th {\n",
       "        vertical-align: top;\n",
       "    }\n",
       "\n",
       "    .dataframe thead th {\n",
       "        text-align: right;\n",
       "    }\n",
       "</style>\n",
       "<table border=\"1\" class=\"dataframe\">\n",
       "  <thead>\n",
       "    <tr style=\"text-align: right;\">\n",
       "      <th></th>\n",
       "      <th>url</th>\n",
       "      <th>date</th>\n",
       "      <th>language</th>\n",
       "      <th>title</th>\n",
       "      <th>text</th>\n",
       "      <th>text_processed</th>\n",
       "    </tr>\n",
       "  </thead>\n",
       "  <tbody>\n",
       "    <tr>\n",
       "      <th>0</th>\n",
       "      <td>http://en.people.cn/n3/2021/0318/c90000-983012...</td>\n",
       "      <td>2021-03-18</td>\n",
       "      <td>en</td>\n",
       "      <td>Artificial intelligence improves parking effic...</td>\n",
       "      <td>\\n\\nArtificial intelligence improves parking e...</td>\n",
       "      <td>artificial intelligence improves parking effic...</td>\n",
       "    </tr>\n",
       "    <tr>\n",
       "      <th>1</th>\n",
       "      <td>http://newsparliament.com/2020/02/27/children-...</td>\n",
       "      <td>2020-02-27</td>\n",
       "      <td>en</td>\n",
       "      <td>Children With Autism Saw Their Learning and So...</td>\n",
       "      <td>\\nChildren With Autism Saw Their Learning and ...</td>\n",
       "      <td>children autism saw learning social skills boo...</td>\n",
       "    </tr>\n",
       "    <tr>\n",
       "      <th>2</th>\n",
       "      <td>http://www.dataweek.co.za/12835r</td>\n",
       "      <td>2021-03-26</td>\n",
       "      <td>en</td>\n",
       "      <td>Forget ML, AI and Industry 4.0 – obsolescence ...</td>\n",
       "      <td>\\n\\nForget ML, AI and Industry 4.0 – obsolesce...</td>\n",
       "      <td>forget ml ai industry – obsolescence focus feb...</td>\n",
       "    </tr>\n",
       "    <tr>\n",
       "      <th>3</th>\n",
       "      <td>http://www.homeoffice.consumerelectronicsnet.c...</td>\n",
       "      <td>2021-03-10</td>\n",
       "      <td>en</td>\n",
       "      <td>Strategy Analytics: 71% of Smartphones Sold Gl...</td>\n",
       "      <td>\\n\\nStrategy Analytics: 71% of Smartphones Sol...</td>\n",
       "      <td>strategy analytics smartphones sold globally a...</td>\n",
       "    </tr>\n",
       "    <tr>\n",
       "      <th>4</th>\n",
       "      <td>http://www.itbusinessnet.com/2020/10/olympus-t...</td>\n",
       "      <td>2020-10-20</td>\n",
       "      <td>en</td>\n",
       "      <td>Olympus to Support Endoscopic AI Diagnosis Edu...</td>\n",
       "      <td>\\n\\nOlympus to Support Endoscopic AI Diagnosis...</td>\n",
       "      <td>olympus support endoscopic ai diagnosis educat...</td>\n",
       "    </tr>\n",
       "  </tbody>\n",
       "</table>\n",
       "</div>"
      ],
      "text/plain": [
       "                                                 url       date language  \\\n",
       "0  http://en.people.cn/n3/2021/0318/c90000-983012... 2021-03-18       en   \n",
       "1  http://newsparliament.com/2020/02/27/children-... 2020-02-27       en   \n",
       "2                   http://www.dataweek.co.za/12835r 2021-03-26       en   \n",
       "3  http://www.homeoffice.consumerelectronicsnet.c... 2021-03-10       en   \n",
       "4  http://www.itbusinessnet.com/2020/10/olympus-t... 2020-10-20       en   \n",
       "\n",
       "                                               title  \\\n",
       "0  Artificial intelligence improves parking effic...   \n",
       "1  Children With Autism Saw Their Learning and So...   \n",
       "2  Forget ML, AI and Industry 4.0 – obsolescence ...   \n",
       "3  Strategy Analytics: 71% of Smartphones Sold Gl...   \n",
       "4  Olympus to Support Endoscopic AI Diagnosis Edu...   \n",
       "\n",
       "                                                text  \\\n",
       "0  \\n\\nArtificial intelligence improves parking e...   \n",
       "1  \\nChildren With Autism Saw Their Learning and ...   \n",
       "2  \\n\\nForget ML, AI and Industry 4.0 – obsolesce...   \n",
       "3  \\n\\nStrategy Analytics: 71% of Smartphones Sol...   \n",
       "4  \\n\\nOlympus to Support Endoscopic AI Diagnosis...   \n",
       "\n",
       "                                      text_processed  \n",
       "0  artificial intelligence improves parking effic...  \n",
       "1  children autism saw learning social skills boo...  \n",
       "2  forget ml ai industry – obsolescence focus feb...  \n",
       "3  strategy analytics smartphones sold globally a...  \n",
       "4  olympus support endoscopic ai diagnosis educat...  "
      ]
     },
     "execution_count": 16,
     "metadata": {},
     "output_type": "execute_result"
    }
   ],
   "source": [
    "df_processed.head()"
   ]
  },
  {
   "cell_type": "markdown",
   "id": "cc549754-f84c-4e91-831e-72c760d7c0e4",
   "metadata": {},
   "source": [
    "### Filter articles that only refer to the tech companies we are interested in"
   ]
  },
  {
   "cell_type": "code",
   "execution_count": 17,
   "id": "2e295a01-79c6-4c9b-9b05-35613e2f85da",
   "metadata": {},
   "outputs": [],
   "source": [
    "tech_companies = ['microsoft', 'google', 'alphabet', 'meta', 'facebook', 'apple', 'amazon', 'nvidia', 'tesla', 'broadcom']\n",
    "\n",
    "# Create a boolean mask to filter the rows based on the tech companies mentioned\n",
    "mask = df_processed['text_processed'].str.contains('|'.join(tech_companies), case=False)\n",
    "\n",
    "# Apply the mask to filter the DataFrame\n",
    "filtered_df = df_processed[mask]"
   ]
  },
  {
   "cell_type": "code",
   "execution_count": 11,
   "id": "b2af0b5b-06f0-4087-9d54-3cc70cba4415",
   "metadata": {},
   "outputs": [],
   "source": [
    "#pip install pandarallel"
   ]
  },
  {
   "cell_type": "code",
   "execution_count": 22,
   "id": "1bc034dc-a2c7-4825-ba6f-5c58e1224a25",
   "metadata": {},
   "outputs": [
    {
     "name": "stderr",
     "output_type": "stream",
     "text": [
      "[nltk_data] Downloading package punkt to /home/jupyter/nltk_data...\n",
      "[nltk_data]   Package punkt is already up-to-date!\n"
     ]
    },
    {
     "data": {
      "text/plain": [
       "list"
      ]
     },
     "execution_count": 22,
     "metadata": {},
     "output_type": "execute_result"
    }
   ],
   "source": [
    "from nltk import word_tokenize\n",
    "nltk.download('punkt')\n",
    "\n",
    "type(word_tokenize(\"test deneme deneme 123\"))"
   ]
  },
  {
   "cell_type": "markdown",
   "id": "b1d0d77b-e620-4ed9-a4b9-728b90ff573e",
   "metadata": {},
   "source": [
    "### Getting the count of articles for each date"
   ]
  },
  {
   "cell_type": "code",
   "execution_count": 65,
   "id": "93a8f6f0-6f69-40f5-b486-ab48b0bdb1e9",
   "metadata": {},
   "outputs": [
    {
     "name": "stderr",
     "output_type": "stream",
     "text": [
      "/opt/conda/lib/python3.7/site-packages/ipykernel_launcher.py:8: SettingWithCopyWarning: \n",
      "A value is trying to be set on a copy of a slice from a DataFrame.\n",
      "Try using .loc[row_indexer,col_indexer] = value instead\n",
      "\n",
      "See the caveats in the documentation: https://pandas.pydata.org/pandas-docs/stable/user_guide/indexing.html#returning-a-view-versus-a-copy\n",
      "  \n"
     ]
    },
    {
     "data": {
      "image/png": "[encoded data removed]",
      "text/plain": [
       "<Figure size 1000x600 with 1 Axes>"
      ]
     },
     "metadata": {},
     "output_type": "display_data"
    }
   ],
   "source": [
    "import pandas as pd\n",
    "import matplotlib.pyplot as plt\n",
    "\n",
    "# Assume that df is your DataFrame and 'date' is your date column\n",
    "# df = pd.DataFrame(your_data)\n",
    "\n",
    "# Convert the 'date' column to datetime if it's not already\n",
    "filtered_df['date'] = pd.to_datetime(filtered_df['date'])\n",
    "\n",
    "# Count the number of data points for each date\n",
    "date_counts = filtered_df['date'].value_counts().sort_index()\n",
    "\n",
    "# Plot the data\n",
    "plt.figure(figsize=(10, 6))\n",
    "date_counts.plot(kind='bar')\n",
    "plt.xlabel('Date')\n",
    "plt.ylabel('Count')\n",
    "plt.title('Number of data points for each date')\n",
    "plt.xticks(rotation=90)\n",
    "plt.tight_layout()\n",
    "plt.show()\n"
   ]
  },
  {
   "cell_type": "code",
   "execution_count": 67,
   "id": "242ef914-3c1a-4ddc-92aa-cc47fe553bb4",
   "metadata": {},
   "outputs": [
    {
     "name": "stdout",
     "output_type": "stream",
     "text": [
      "Process started at  2023-05-19 21:36:43.839191\n",
      "The data is processed until 0 at 2023-05-19 21:36:44.775901\n",
      "The data is processed until 5000 at 2023-05-19 21:37:21.815603\n",
      "The data is processed until 10000 at 2023-05-19 21:37:58.255186\n",
      "The data is processed until 20000 at 2023-05-19 21:39:11.819249\n",
      "The data is processed until 25000 at 2023-05-19 21:39:48.332970\n",
      "The data is processed until 30000 at 2023-05-19 21:40:25.066603\n",
      "The data is processed until 35000 at 2023-05-19 21:41:01.978087\n",
      "The data is processed until 40000 at 2023-05-19 21:41:38.699237\n",
      "The data is processed until 45000 at 2023-05-19 21:42:16.172056\n",
      "The data is processed until 50000 at 2023-05-19 21:42:53.023368\n",
      "The data is processed until 55000 at 2023-05-19 21:43:30.189365\n",
      "The data is processed until 60000 at 2023-05-19 21:44:07.634330\n",
      "The data is processed until 65000 at 2023-05-19 21:44:46.372275\n",
      "The data is processed until 85000 at 2023-05-19 21:47:14.275749\n",
      "The data is processed until 90000 at 2023-05-19 21:47:50.020884\n",
      "The data is processed until 95000 at 2023-05-19 21:48:26.538679\n",
      "The data is processed until 100000 at 2023-05-19 21:49:03.159112\n",
      "The data is processed until 105000 at 2023-05-19 21:49:40.338742\n",
      "The data is processed until 110000 at 2023-05-19 21:50:16.602016\n",
      "The data is processed until 115000 at 2023-05-19 21:50:52.430868\n",
      "The data is processed until 120000 at 2023-05-19 21:51:29.444937\n",
      "The data is processed until 125000 at 2023-05-19 21:52:05.960368\n",
      "The data is processed until 130000 at 2023-05-19 21:52:42.640845\n",
      "The data is processed until 140000 at 2023-05-19 21:53:56.307784\n",
      "The data is processed until 145000 at 2023-05-19 21:54:32.480285\n",
      "The data is processed until 150000 at 2023-05-19 21:55:08.444875\n",
      "The data is processed until 155000 at 2023-05-19 21:55:44.435978\n",
      "The data is processed until 160000 at 2023-05-19 21:56:20.781583\n",
      "The data is processed until 165000 at 2023-05-19 21:56:56.180460\n",
      "The data is processed until 170000 at 2023-05-19 21:57:32.647974\n",
      "The data is processed until 175000 at 2023-05-19 21:58:07.609782\n",
      "The data is processed until 190000 at 2023-05-19 21:59:55.676753\n",
      "The data is processed until 195000 at 2023-05-19 22:00:31.872543\n",
      "The data is processed until 200000 at 2023-05-19 22:01:07.942262\n"
     ]
    }
   ],
   "source": [
    "### Chunk the text considering the token limit\n",
    "from datetime import datetime\n",
    "\n",
    "text_cache = []\n",
    "print(\"Process started at \", datetime.now())\n",
    "for idx, row in filtered_df.iterrows():    \n",
    "    if idx % 5000 == 0:\n",
    "        print(f\"The data is processed until {idx} at\", datetime.now())\n",
    "\n",
    "    max_word_length = 500\n",
    "    max_token_length = 450\n",
    "\n",
    "    long_text = row[\"text_processed\"]\n",
    "    long_text = \" \".join(word_tokenize(long_text)[:max_word_length])\n",
    "    \n",
    "    # Truncate the input text to the maximum length using the model's tokenizer\n",
    "    tokens = sentiment_analysis.tokenizer.tokenize(long_text)\n",
    "    tokens = tokens[:max_token_length]\n",
    "    truncated_text = sentiment_analysis.tokenizer.convert_tokens_to_string(tokens)\n",
    "    \n",
    "    text_cache.append(truncated_text)"
   ]
  },
  {
   "cell_type": "code",
   "execution_count": 68,
   "id": "a8b87d92-c198-4383-91bc-708417c058ad",
   "metadata": {},
   "outputs": [
    {
     "name": "stderr",
     "output_type": "stream",
     "text": [
      "/opt/conda/lib/python3.7/site-packages/ipykernel_launcher.py:1: SettingWithCopyWarning: \n",
      "A value is trying to be set on a copy of a slice from a DataFrame.\n",
      "Try using .loc[row_indexer,col_indexer] = value instead\n",
      "\n",
      "See the caveats in the documentation: https://pandas.pydata.org/pandas-docs/stable/user_guide/indexing.html#returning-a-view-versus-a-copy\n",
      "  \"\"\"Entry point for launching an IPython kernel.\n"
     ]
    }
   ],
   "source": [
    "filtered_df[\"truncated_text\"] = text_cache"
   ]
  },
  {
   "cell_type": "markdown",
   "id": "5a81dd29-6faf-4a96-8e61-ba4e8e8d17e9",
   "metadata": {
    "tags": []
   },
   "source": [
    "### Sample news articles to a threshold for each date"
   ]
  },
  {
   "cell_type": "code",
   "execution_count": 84,
   "id": "21c4cc1a-aac5-4c72-8e12-d5c25d4faa72",
   "metadata": {},
   "outputs": [
    {
     "name": "stderr",
     "output_type": "stream",
     "text": [
      "/opt/conda/lib/python3.7/site-packages/ipykernel_launcher.py:2: SettingWithCopyWarning: \n",
      "A value is trying to be set on a copy of a slice from a DataFrame.\n",
      "Try using .loc[row_indexer,col_indexer] = value instead\n",
      "\n",
      "See the caveats in the documentation: https://pandas.pydata.org/pandas-docs/stable/user_guide/indexing.html#returning-a-view-versus-a-copy\n",
      "  \n"
     ]
    }
   ],
   "source": [
    "# Convert the 'date' column to datetime if it's not already\n",
    "filtered_df['date'] = pd.to_datetime(filtered_df['date'])\n",
    "\n",
    "# Define the number of rows to select from each date\n",
    "X = 10 \n",
    "\n",
    "# Group the data by date and select the first X rows from each group\n",
    "filtered_df_2 = filtered_df.groupby('date').apply(lambda x: x.head(X)).reset_index(drop=True)"
   ]
  },
  {
   "cell_type": "code",
   "execution_count": 85,
   "id": "4359e158-d668-4a97-89a2-081e062002a2",
   "metadata": {},
   "outputs": [
    {
     "data": {
      "text/plain": [
       "12130"
      ]
     },
     "execution_count": 85,
     "metadata": {},
     "output_type": "execute_result"
    }
   ],
   "source": [
    "len(filtered_df_2)"
   ]
  },
  {
   "cell_type": "code",
   "execution_count": 86,
   "id": "f5c36290-fbb2-47ba-b382-4787e2c13fe1",
   "metadata": {},
   "outputs": [],
   "source": [
    "filtered_df_2 = filtered_df_2[filtered_df_2.date >= '2022-05-01']"
   ]
  },
  {
   "cell_type": "code",
   "execution_count": 87,
   "id": "16680d9e-3d93-41b0-9f07-c40a33848c3e",
   "metadata": {},
   "outputs": [
    {
     "data": {
      "text/plain": [
       "3630"
      ]
     },
     "execution_count": 87,
     "metadata": {},
     "output_type": "execute_result"
    }
   ],
   "source": [
    "len(filtered_df_2)"
   ]
  },
  {
   "cell_type": "markdown",
   "id": "0e153c62-04a6-48fa-96cd-e7b71c442c74",
   "metadata": {},
   "source": [
    "### Get sentiment scores"
   ]
  },
  {
   "cell_type": "code",
   "execution_count": 88,
   "id": "823b7d2a-b0d6-4f60-bd11-81f0b8ccdcac",
   "metadata": {},
   "outputs": [],
   "source": [
    "text_cache = list(filtered_df_2[\"truncated_text\"])"
   ]
  },
  {
   "cell_type": "code",
   "execution_count": null,
   "id": "5583e382-e7ae-49cf-b21e-84706ef8ec0e",
   "metadata": {
    "tags": []
   },
   "outputs": [
    {
     "name": "stdout",
     "output_type": "stream",
     "text": [
      "Starting at  2023-05-19 22:18:35.645515\n",
      "The data is processed until 10 out of 181 batches at 2023-05-19 22:22:42.405086\n",
      "The data is processed until 20 out of 181 batches at 2023-05-19 22:27:18.028361\n",
      "The data is processed until 30 out of 181 batches at 2023-05-19 22:31:51.117102\n",
      "The data is processed until 40 out of 181 batches at 2023-05-19 22:36:26.176054\n",
      "The data is processed until 50 out of 181 batches at 2023-05-19 22:40:58.489323\n",
      "The data is processed until 60 out of 181 batches at 2023-05-19 22:45:29.985691\n",
      "The data is processed until 70 out of 181 batches at 2023-05-19 22:49:58.314012\n",
      "The data is processed until 80 out of 181 batches at 2023-05-19 22:54:28.761399\n"
     ]
    }
   ],
   "source": [
    "%%time\n",
    "\n",
    "sentiment_responses = []\n",
    "max_elements_to_send = 20\n",
    "num_of_batches = len(text_cache)//max_elements_to_send\n",
    "\n",
    "print(\"Starting at \", datetime.now())\n",
    "\n",
    "for i in range(1, num_of_batches):\n",
    "    if i % 10 == 0:\n",
    "        print(f\"The data is processed until {i} out of {num_of_batches} batches at\", datetime.now())\n",
    "        \n",
    "    try:\n",
    "        parsed_texts = text_cache[max_elements_to_send*(i-1):max_elements_to_send*i]\n",
    "        sentiment_responses.append(sentiment_analysis(parsed_texts))\n",
    "    except:\n",
    "        sentiment_responses.append(sentiment_analysis(text_cache[max_elements_to_send*(i-1):]))"
   ]
  },
  {
   "cell_type": "code",
   "execution_count": 105,
   "id": "5c301b7a-9fdc-4e9d-a62f-d1e0e66f5ffc",
   "metadata": {},
   "outputs": [],
   "source": [
    "filtered_df_2.reset_index(drop=True, inplace=True)"
   ]
  },
  {
   "cell_type": "code",
   "execution_count": 106,
   "id": "e410b845-632a-472a-a31b-6da65d1cc111",
   "metadata": {},
   "outputs": [],
   "source": [
    "filtered_df_2 = filtered_df_2.iloc[:max_elements_to_send*i]"
   ]
  },
  {
   "cell_type": "code",
   "execution_count": 116,
   "id": "aba8b603-2532-4d56-b434-49d5be79749e",
   "metadata": {},
   "outputs": [],
   "source": [
    "backup = copy.deepcopy(sentiment_responses)"
   ]
  },
  {
   "cell_type": "code",
   "execution_count": 120,
   "id": "8590d965-0e14-46c0-bd55-b046e62808f4",
   "metadata": {},
   "outputs": [],
   "source": [
    "final_sentiment_scores = [item for sublist in sentiment_responses for item in sublist]"
   ]
  },
  {
   "cell_type": "code",
   "execution_count": 122,
   "id": "6ba711d3-8321-4180-81ee-62af53891154",
   "metadata": {},
   "outputs": [],
   "source": [
    "df = pd.DataFrame(final_sentiment_scores)"
   ]
  },
  {
   "cell_type": "code",
   "execution_count": 127,
   "id": "107d3a0b-5336-4419-b8fd-b8cacd30b983",
   "metadata": {},
   "outputs": [],
   "source": [
    "final_df = pd.concat([filtered_df_2, df], axis=1)"
   ]
  },
  {
   "cell_type": "code",
   "execution_count": 129,
   "id": "1429b18d-73c6-4695-9680-c3415ea22c50",
   "metadata": {},
   "outputs": [
    {
     "data": {
      "text/plain": [
       "POSITIVE    3197\n",
       "NEGATIVE     403\n",
       "Name: label, dtype: int64"
      ]
     },
     "execution_count": 129,
     "metadata": {},
     "output_type": "execute_result"
    }
   ],
   "source": [
    "final_df.label.value_counts()"
   ]
  },
  {
   "cell_type": "code",
   "execution_count": 131,
   "id": "178f03b8-30b3-4e01-9708-79f3e25a2924",
   "metadata": {},
   "outputs": [],
   "source": [
    "final_df.to_csv(\"news_sentiments.csv\", index=False)"
   ]
  },
  {
   "cell_type": "code",
   "execution_count": 133,
   "id": "7ccf3a6f-1fd8-47f0-8799-ca7ea2fbcf6a",
   "metadata": {},
   "outputs": [
    {
     "data": {
      "text/plain": [
       "'Fri, 19 May 2023 19:19:32'"
      ]
     },
     "execution_count": 133,
     "metadata": {},
     "output_type": "execute_result"
    }
   ],
   "source": [
    "import datetime\n",
    "import pytz\n",
    "\n",
    "datetime.datetime.now(pytz.timezone('US/Central')).strftime(\"%a, %d %B %Y %H:%M:%S\")"
   ]
  }
 ],
 "metadata": {
  "environment": {
   "kernel": "python3",
   "name": "common-cpu.m108",
   "type": "gcloud",
   "uri": "gcr.io/deeplearning-platform-release/base-cpu:m108"
  },
  "kernelspec": {
   "display_name": "Python 3",
   "language": "python",
   "name": "python3"
  },
  "language_info": {
   "codemirror_mode": {
    "name": "ipython",
    "version": 3
   },
   "file_extension": ".py",
   "mimetype": "text/x-python",
   "name": "python",
   "nbconvert_exporter": "python",
   "pygments_lexer": "ipython3",
   "version": "3.7.12"
  }
 },
 "nbformat": 4,
 "nbformat_minor": 5
}

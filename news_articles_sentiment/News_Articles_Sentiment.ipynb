{
 "cells": [
  {
   "cell_type": "markdown",
   "id": "115d6df8-fcf5-4b32-bc9a-753fd92f9cc3",
   "metadata": {},
   "source": [
    "# Time Series Final Project\n",
    "## News Articles EDA\n",
    "In the following part, we will focus on obtaining sentiment scores for news articles centered around technology topics. More specifically, we would like to focus on articles mentioning companies that are captured under the MiraeAsset TIGER US Tech Top10 INDXX (https://www.bloomberg.com/quote/381170:KS#xj4y7vzkg)\n",
    "\n",
    "Companies under the index are:\n",
    "* Microsoft Corp. MSFT:US.\n",
    "* Apple Inc. AAPL:US. 1.3579M.\n",
    "* Alphabet Inc. GOOGL:US. 1.9099M.\n",
    "* Amazon.com Inc. AMZN:US.\n",
    "* NVIDIA Corp. NVDA:US.\n",
    "* Meta Platforms Inc. META:US.\n",
    "* Tesla Inc. TSLA:US. 402.9600K.\n",
    "* Broadcom Inc. AVGO:US. 60.7200K."
   ]
  },
  {
   "cell_type": "code",
   "execution_count": 1,
   "id": "66e9b4d2-2c63-49be-a0b9-4a95156d9fd3",
   "metadata": {},
   "outputs": [
    {
     "name": "stderr",
     "output_type": "stream",
     "text": [
      "Xformers is not installed correctly. If you want to use memorry_efficient_attention to accelerate training use the following command to install Xformers\n",
      "pip install xformers.\n"
     ]
    }
   ],
   "source": [
    "import pandas as pd\n",
    "\n",
    "from transformers import pipeline\n",
    "sentiment_analysis = pipeline(\"sentiment-analysis\",model=\"siebert/sentiment-roberta-large-english\")"
   ]
  },
  {
   "cell_type": "code",
   "execution_count": 2,
   "id": "41b1badc-6be8-4ea8-89e2-a092720ce039",
   "metadata": {},
   "outputs": [],
   "source": [
    "df_news = pd.read_parquet('https://storage.googleapis.com/msca-bdp-data-open/news_final_project/news_final_project.parquet', engine='pyarrow')"
   ]
  },
  {
   "cell_type": "code",
   "execution_count": 3,
   "id": "08d419cf-8fdb-4134-967e-666803c7018c",
   "metadata": {},
   "outputs": [
    {
     "data": {
      "text/html": [
       "<div>\n",
       "<style scoped>\n",
       "    .dataframe tbody tr th:only-of-type {\n",
       "        vertical-align: middle;\n",
       "    }\n",
       "\n",
       "    .dataframe tbody tr th {\n",
       "        vertical-align: top;\n",
       "    }\n",
       "\n",
       "    .dataframe thead th {\n",
       "        text-align: right;\n",
       "    }\n",
       "</style>\n",
       "<table border=\"1\" class=\"dataframe\">\n",
       "  <thead>\n",
       "    <tr style=\"text-align: right;\">\n",
       "      <th></th>\n",
       "      <th>url</th>\n",
       "      <th>date</th>\n",
       "      <th>language</th>\n",
       "      <th>title</th>\n",
       "      <th>text</th>\n",
       "    </tr>\n",
       "  </thead>\n",
       "  <tbody>\n",
       "    <tr>\n",
       "      <th>0</th>\n",
       "      <td>http://en.people.cn/n3/2021/0318/c90000-983012...</td>\n",
       "      <td>2021-03-18</td>\n",
       "      <td>en</td>\n",
       "      <td>Artificial intelligence improves parking effic...</td>\n",
       "      <td>\\n\\nArtificial intelligence improves parking e...</td>\n",
       "    </tr>\n",
       "    <tr>\n",
       "      <th>1</th>\n",
       "      <td>http://newsparliament.com/2020/02/27/children-...</td>\n",
       "      <td>2020-02-27</td>\n",
       "      <td>en</td>\n",
       "      <td>Children With Autism Saw Their Learning and So...</td>\n",
       "      <td>\\nChildren With Autism Saw Their Learning and ...</td>\n",
       "    </tr>\n",
       "    <tr>\n",
       "      <th>2</th>\n",
       "      <td>http://www.dataweek.co.za/12835r</td>\n",
       "      <td>2021-03-26</td>\n",
       "      <td>en</td>\n",
       "      <td>Forget ML, AI and Industry 4.0 – obsolescence ...</td>\n",
       "      <td>\\n\\nForget ML, AI and Industry 4.0 – obsolesce...</td>\n",
       "    </tr>\n",
       "    <tr>\n",
       "      <th>3</th>\n",
       "      <td>http://www.homeoffice.consumerelectronicsnet.c...</td>\n",
       "      <td>2021-03-10</td>\n",
       "      <td>en</td>\n",
       "      <td>Strategy Analytics: 71% of Smartphones Sold Gl...</td>\n",
       "      <td>\\n\\nStrategy Analytics: 71% of Smartphones Sol...</td>\n",
       "    </tr>\n",
       "    <tr>\n",
       "      <th>4</th>\n",
       "      <td>http://www.itbusinessnet.com/2020/10/olympus-t...</td>\n",
       "      <td>2020-10-20</td>\n",
       "      <td>en</td>\n",
       "      <td>Olympus to Support Endoscopic AI Diagnosis Edu...</td>\n",
       "      <td>\\n\\nOlympus to Support Endoscopic AI Diagnosis...</td>\n",
       "    </tr>\n",
       "  </tbody>\n",
       "</table>\n",
       "</div>"
      ],
      "text/plain": [
       "                                                 url        date language  \\\n",
       "0  http://en.people.cn/n3/2021/0318/c90000-983012...  2021-03-18       en   \n",
       "1  http://newsparliament.com/2020/02/27/children-...  2020-02-27       en   \n",
       "2                   http://www.dataweek.co.za/12835r  2021-03-26       en   \n",
       "3  http://www.homeoffice.consumerelectronicsnet.c...  2021-03-10       en   \n",
       "4  http://www.itbusinessnet.com/2020/10/olympus-t...  2020-10-20       en   \n",
       "\n",
       "                                               title  \\\n",
       "0  Artificial intelligence improves parking effic...   \n",
       "1  Children With Autism Saw Their Learning and So...   \n",
       "2  Forget ML, AI and Industry 4.0 – obsolescence ...   \n",
       "3  Strategy Analytics: 71% of Smartphones Sold Gl...   \n",
       "4  Olympus to Support Endoscopic AI Diagnosis Edu...   \n",
       "\n",
       "                                                text  \n",
       "0  \\n\\nArtificial intelligence improves parking e...  \n",
       "1  \\nChildren With Autism Saw Their Learning and ...  \n",
       "2  \\n\\nForget ML, AI and Industry 4.0 – obsolesce...  \n",
       "3  \\n\\nStrategy Analytics: 71% of Smartphones Sol...  \n",
       "4  \\n\\nOlympus to Support Endoscopic AI Diagnosis...  "
      ]
     },
     "execution_count": 3,
     "metadata": {},
     "output_type": "execute_result"
    }
   ],
   "source": [
    "df_news.head()"
   ]
  },
  {
   "cell_type": "markdown",
   "id": "3686f15e-64af-464a-b33f-90923875b272",
   "metadata": {},
   "source": [
    "Let's start doing some EDA and cleaning our text column to feed into a sentiment analysis pipeline"
   ]
  },
  {
   "cell_type": "code",
   "execution_count": 4,
   "id": "cc316566-2934-4437-a2ce-a2b928cb52f0",
   "metadata": {},
   "outputs": [
    {
     "name": "stdout",
     "output_type": "stream",
     "text": [
      "Minimum date: 2020-01-01 00:00:00\n",
      "Maximum date: 2023-04-28 00:00:00\n"
     ]
    }
   ],
   "source": [
    "# Assuming you have a pandas DataFrame named 'df' with a 'date' column\n",
    "df_news['date'] = pd.to_datetime(df_news['date'])  # Convert 'date' column to pandas Timestamp if not already\n",
    "\n",
    "min_date = df_news['date'].min()\n",
    "max_date = df_news['date'].max()\n",
    "\n",
    "print(\"Minimum date:\", min_date)\n",
    "print(\"Maximum date:\", max_date)"
   ]
  },
  {
   "cell_type": "code",
   "execution_count": 5,
   "id": "7e650b6a-d484-4095-b02f-f3d556d504e1",
   "metadata": {},
   "outputs": [],
   "source": [
    "#pip install nltk"
   ]
  },
  {
   "cell_type": "code",
   "execution_count": 6,
   "id": "05af22b0-0a72-4c23-81f5-9f91a07de052",
   "metadata": {},
   "outputs": [
    {
     "name": "stderr",
     "output_type": "stream",
     "text": [
      "[nltk_data] Downloading package stopwords to\n",
      "[nltk_data]     /home/jupyter/nltk_data...\n",
      "[nltk_data]   Package stopwords is already up-to-date!\n"
     ]
    },
    {
     "data": {
      "text/plain": [
       "True"
      ]
     },
     "execution_count": 6,
     "metadata": {},
     "output_type": "execute_result"
    }
   ],
   "source": [
    "import nltk\n",
    "from nltk.corpus import stopwords\n",
    "import string\n",
    "\n",
    "nltk.download('stopwords')"
   ]
  },
  {
   "cell_type": "code",
   "execution_count": 7,
   "id": "d4ab6dfb-7127-43af-993b-41088738ee23",
   "metadata": {},
   "outputs": [],
   "source": [
    "def preprocess_text(text):\n",
    "    # Remove punctuation and numbers\n",
    "    text = text.translate(str.maketrans('', '', string.punctuation + string.digits))\n",
    "    \n",
    "    # Convert text to lowercase\n",
    "    text = text.lower()\n",
    "    \n",
    "    # Tokenize the text\n",
    "    tokens = text.split()\n",
    "    \n",
    "    # Remove stop words\n",
    "    stop_words = set(stopwords.words('english'))\n",
    "    tokens = [word for word in tokens if word not in stop_words]\n",
    "    \n",
    "    # Join the tokens back into a single string\n",
    "    preprocessed_text = ' '.join(tokens)\n",
    "    \n",
    "    return preprocessed_text\n",
    "\n",
    "df_processed = df_news.copy()\n",
    "df_processed['text_processed'] = df_processed['text'].apply(preprocess_text)"
   ]
  },
  {
   "cell_type": "code",
   "execution_count": 8,
   "id": "4c0cafe7-17c2-445c-b834-239559d79f77",
   "metadata": {},
   "outputs": [
    {
     "data": {
      "text/html": [
       "<div>\n",
       "<style scoped>\n",
       "    .dataframe tbody tr th:only-of-type {\n",
       "        vertical-align: middle;\n",
       "    }\n",
       "\n",
       "    .dataframe tbody tr th {\n",
       "        vertical-align: top;\n",
       "    }\n",
       "\n",
       "    .dataframe thead th {\n",
       "        text-align: right;\n",
       "    }\n",
       "</style>\n",
       "<table border=\"1\" class=\"dataframe\">\n",
       "  <thead>\n",
       "    <tr style=\"text-align: right;\">\n",
       "      <th></th>\n",
       "      <th>url</th>\n",
       "      <th>date</th>\n",
       "      <th>language</th>\n",
       "      <th>title</th>\n",
       "      <th>text</th>\n",
       "      <th>text_processed</th>\n",
       "    </tr>\n",
       "  </thead>\n",
       "  <tbody>\n",
       "    <tr>\n",
       "      <th>0</th>\n",
       "      <td>http://en.people.cn/n3/2021/0318/c90000-983012...</td>\n",
       "      <td>2021-03-18</td>\n",
       "      <td>en</td>\n",
       "      <td>Artificial intelligence improves parking effic...</td>\n",
       "      <td>\\n\\nArtificial intelligence improves parking e...</td>\n",
       "      <td>artificial intelligence improves parking effic...</td>\n",
       "    </tr>\n",
       "    <tr>\n",
       "      <th>1</th>\n",
       "      <td>http://newsparliament.com/2020/02/27/children-...</td>\n",
       "      <td>2020-02-27</td>\n",
       "      <td>en</td>\n",
       "      <td>Children With Autism Saw Their Learning and So...</td>\n",
       "      <td>\\nChildren With Autism Saw Their Learning and ...</td>\n",
       "      <td>children autism saw learning social skills boo...</td>\n",
       "    </tr>\n",
       "    <tr>\n",
       "      <th>2</th>\n",
       "      <td>http://www.dataweek.co.za/12835r</td>\n",
       "      <td>2021-03-26</td>\n",
       "      <td>en</td>\n",
       "      <td>Forget ML, AI and Industry 4.0 – obsolescence ...</td>\n",
       "      <td>\\n\\nForget ML, AI and Industry 4.0 – obsolesce...</td>\n",
       "      <td>forget ml ai industry – obsolescence focus feb...</td>\n",
       "    </tr>\n",
       "    <tr>\n",
       "      <th>3</th>\n",
       "      <td>http://www.homeoffice.consumerelectronicsnet.c...</td>\n",
       "      <td>2021-03-10</td>\n",
       "      <td>en</td>\n",
       "      <td>Strategy Analytics: 71% of Smartphones Sold Gl...</td>\n",
       "      <td>\\n\\nStrategy Analytics: 71% of Smartphones Sol...</td>\n",
       "      <td>strategy analytics smartphones sold globally a...</td>\n",
       "    </tr>\n",
       "    <tr>\n",
       "      <th>4</th>\n",
       "      <td>http://www.itbusinessnet.com/2020/10/olympus-t...</td>\n",
       "      <td>2020-10-20</td>\n",
       "      <td>en</td>\n",
       "      <td>Olympus to Support Endoscopic AI Diagnosis Edu...</td>\n",
       "      <td>\\n\\nOlympus to Support Endoscopic AI Diagnosis...</td>\n",
       "      <td>olympus support endoscopic ai diagnosis educat...</td>\n",
       "    </tr>\n",
       "  </tbody>\n",
       "</table>\n",
       "</div>"
      ],
      "text/plain": [
       "                                                 url       date language  \\\n",
       "0  http://en.people.cn/n3/2021/0318/c90000-983012... 2021-03-18       en   \n",
       "1  http://newsparliament.com/2020/02/27/children-... 2020-02-27       en   \n",
       "2                   http://www.dataweek.co.za/12835r 2021-03-26       en   \n",
       "3  http://www.homeoffice.consumerelectronicsnet.c... 2021-03-10       en   \n",
       "4  http://www.itbusinessnet.com/2020/10/olympus-t... 2020-10-20       en   \n",
       "\n",
       "                                               title  \\\n",
       "0  Artificial intelligence improves parking effic...   \n",
       "1  Children With Autism Saw Their Learning and So...   \n",
       "2  Forget ML, AI and Industry 4.0 – obsolescence ...   \n",
       "3  Strategy Analytics: 71% of Smartphones Sold Gl...   \n",
       "4  Olympus to Support Endoscopic AI Diagnosis Edu...   \n",
       "\n",
       "                                                text  \\\n",
       "0  \\n\\nArtificial intelligence improves parking e...   \n",
       "1  \\nChildren With Autism Saw Their Learning and ...   \n",
       "2  \\n\\nForget ML, AI and Industry 4.0 – obsolesce...   \n",
       "3  \\n\\nStrategy Analytics: 71% of Smartphones Sol...   \n",
       "4  \\n\\nOlympus to Support Endoscopic AI Diagnosis...   \n",
       "\n",
       "                                      text_processed  \n",
       "0  artificial intelligence improves parking effic...  \n",
       "1  children autism saw learning social skills boo...  \n",
       "2  forget ml ai industry – obsolescence focus feb...  \n",
       "3  strategy analytics smartphones sold globally a...  \n",
       "4  olympus support endoscopic ai diagnosis educat...  "
      ]
     },
     "execution_count": 8,
     "metadata": {},
     "output_type": "execute_result"
    }
   ],
   "source": [
    "df_processed.head()"
   ]
  },
  {
   "cell_type": "markdown",
   "id": "cc549754-f84c-4e91-831e-72c760d7c0e4",
   "metadata": {},
   "source": [
    "Filter articles that only refer to the tech companies we are interested in"
   ]
  },
  {
   "cell_type": "code",
   "execution_count": 9,
   "id": "2e295a01-79c6-4c9b-9b05-35613e2f85da",
   "metadata": {},
   "outputs": [],
   "source": [
    "tech_companies = ['microsoft', 'google', 'alphabet', 'meta', 'facebook', 'apple', 'amazon', 'nvidia', 'tesla', 'broadcom']\n",
    "\n",
    "# Create a boolean mask to filter the rows based on the tech companies mentioned\n",
    "mask = df_processed['text_processed'].str.contains('|'.join(tech_companies), case=False)\n",
    "\n",
    "# Apply the mask to filter the DataFrame\n",
    "filtered_df = df_processed[mask]"
   ]
  },
  {
   "cell_type": "code",
   "execution_count": 10,
   "id": "58bb3981-8de0-42b0-92fc-d54be617aaf6",
   "metadata": {},
   "outputs": [
    {
     "data": {
      "text/plain": [
       "'artificial intelligence improves parking efficiency chinese cities peoples daily online home china politics foreign affairs opinions video china business military world society culture travel science sports photo languages chinese japanese french spanish russian arabic korean german portuguese thursday march home artificial intelligence improves parking efficiency chinese cities liu shiyao peoples daily march photo taken july shows sign electronic toll collection etc newly set roadside parking space yangzhuang road shijingshan district beijing urban areas city started use etc system roadside parking spaces since july people’s daily onlineli wenming thanks application artificial intelligence aiempowered roadside electronic toll collection etc system china’s capital city beijing seen significant improvement efficiency parking fee collection turnover roadside parking spots order roadside parking well traffic congestion city deepens roadside parking reform etc system almost covered roadside parking spaces city proportion vehicles parked roads using system exceeding percent aiempowered system drivers park vehicles parking spots roadside pay parking charge via mobile phones drive away “this road used full cars even normal lanes occupied could hardly move bit morning evening commute time” recalled citizen surnamed wang lives chaoyang district beijing “since summer roadside etc devices installed cars parked designated parking spots roadside road seems brighter wider” wang said smart roadside etc system “aipark sky eye” adopted beijing developed operated maintained aipark beijingbased leading smart parking solution provider company’s intelligent system brought full play advantages ai technologies effectively addressed shortage parking spaces problem irregular parking cities system therefore listed among country’s innovation projects integrate ai deeply real economy china’s ministry industry information technology miit traditional parking management equipment monitoring devices failed meet actual needs cities due limited application scenarios technical capacity many deficiencies traditional parking systems example magnetic devices cannot identify detailed information vehicles video monitoring pile cover one parking spot manual collection parking fees costs much problems don’t exist smart machines “aipark sky eye” system boasts strong stability high recognition rate besides resist interference extreme weather conditions like rain snow fog form complete graphic evidence based wheel path vehicles set cameras “aipark sky eye” system monitor multiple parking spots time hours day data collected frontend cameras processed using multidimensional deep learning algorithm uploaded ai computing cloud platform data enrichment platform distributes identification results transport authorities distinctive innovation technological package system precision brought highmounted parking system cameras according xiang yanping senior vice president aipark noting cameras recognize complex static dynamic reality scenes “for example equipment accurately identify irregular parking behaviors state double parking frequent maneuvers precisely recognize detailed information including plate number vehicle color make good judgment behaviors drivers pedestrians” xiang said highmounted parking system cameras installed help many aspects integrated urban governance represents another advantage “aipark sky eye” system besides managing parking fee collection highmounted camera system also provide data traffic improvements snapshots obtained camera system help solve problems including illegal inappropriate parking vehicle theft far smart etc system aipark introduced cities china signaling increasingly important roles ai improving parking efficiency order well new development opportunities smart parking industry 【】【】【】 photos naval fleet steams east china sea newborn golden snubnosed monkey makes debut pics birds across china grain painting studio helps villagers increase income related stories exhibition highlighting artscience integration opens beijingchina’s ai industry poised enter boom timesalibaba outlines technology trends china’s leading ai enterprise iflytek develop health information technologycheetah mobile wades artificial intelligencechina overtakes us investment ai million artificial intelligence talents urgently needed chinagraduate students give voice sign languageartificial intelligence real livesmicrosoft embraces artificial intelligence peoples daily online join us contact us copyright © peoples daily online rights reserved'"
      ]
     },
     "execution_count": 10,
     "metadata": {},
     "output_type": "execute_result"
    }
   ],
   "source": [
    "filtered_df['text_processed'][0]"
   ]
  },
  {
   "cell_type": "code",
   "execution_count": 11,
   "id": "79939997-c2d5-4a79-879b-3c0b62130375",
   "metadata": {},
   "outputs": [
    {
     "name": "stdout",
     "output_type": "stream",
     "text": [
      "Overall Sentiment Score: 0.000518500804901123\n"
     ]
    }
   ],
   "source": [
    "def get_sentiment_score(text):\n",
    "    max_length = 512\n",
    "    split_text = [text[i:i + max_length] for i in range(0, len(text), max_length)]\n",
    "    scores = []\n",
    "\n",
    "    for chunk in split_text:\n",
    "        # Call your sentiment analysis model to obtain the sentiment result\n",
    "        sentiment_result = sentiment_analysis(chunk)\n",
    "\n",
    "        # Extract the sentiment label and score from the result\n",
    "        sentiment_label = sentiment_result[0]['label']\n",
    "        sentiment_score = sentiment_result[0]['score']\n",
    "        \n",
    "        numeric_score = 0.5\n",
    "        # Map sentiment labels to numeric values\n",
    "        if sentiment_label == 'POSITIVE':\n",
    "            numeric_score = sentiment_score\n",
    "        elif sentiment_label == 'NEGATIVE':\n",
    "            numeric_score = 1 - sentiment_score\n",
    "\n",
    "        scores.append(numeric_score)\n",
    "\n",
    "    # Calculate weighted average of sentiment scores\n",
    "    total_length = len(text)\n",
    "    weighted_scores = [score * len(chunk) / total_length for score, chunk in zip(scores, split_text)]\n",
    "    overall_score = sum(weighted_scores)\n",
    "\n",
    "    return overall_score\n",
    "\n",
    "# Example usage\n",
    "text = \"this company is so bad\"\n",
    "overall_score = get_sentiment_score(text)\n",
    "print(\"Overall Sentiment Score:\", overall_score)"
   ]
  },
  {
   "cell_type": "code",
   "execution_count": null,
   "id": "99ea5df7-e7a8-49f5-8ccb-95aae1e3420c",
   "metadata": {},
   "outputs": [],
   "source": [
    "filtered_df['sentiment_score'] = filtered_df['text_processed'].apply(get_sentiment_score)"
   ]
  },
  {
   "cell_type": "code",
   "execution_count": null,
   "id": "d0f47780-acfe-45be-b0a3-dccb0b204c5e",
   "metadata": {},
   "outputs": [],
   "source": [
    "import pyarrow.parquet as pq\n",
    "import gcsfs\n",
    "\n",
    "# Save DataFrame to Parquet format\n",
    "file_path = 'filtered_sentiment.parquet'\n",
    "pq.write_table(pq.Table.from_pandas(df), file_path)\n",
    "\n",
    "# Save Parquet file to GCS bucket\n",
    "bucket_name = 'msca-time-series-bucket'\n",
    "gcs_path = f'gs://{bucket_name}/{file_path}'\n",
    "\n",
    "fs = gcsfs.GCSFileSystem()\n",
    "with fs.open(gcs_path, 'wb') as f:\n",
    "    pq.write_table(pq.Table.from_pandas(filtered_df), f)"
   ]
  },
  {
   "cell_type": "code",
   "execution_count": null,
   "id": "1aeab89c-b04a-4398-b84f-74a77dace04f",
   "metadata": {},
   "outputs": [],
   "source": []
  },
  {
   "cell_type": "code",
   "execution_count": null,
   "id": "897fad91-2f7f-49b0-9c0d-c80cbe6e0718",
   "metadata": {},
   "outputs": [],
   "source": []
  },
  {
   "cell_type": "code",
   "execution_count": null,
   "id": "c3c7f157-4131-441c-a7be-f4f87312811c",
   "metadata": {},
   "outputs": [],
   "source": []
  },
  {
   "cell_type": "markdown",
   "id": "0de38155-4715-4c98-b0fb-3fc44b91af75",
   "metadata": {},
   "source": [
    "Installing huggingface transformers"
   ]
  },
  {
   "cell_type": "code",
   "execution_count": 5,
   "id": "0b61b753-1c4d-4ba3-bb90-42b8555587d6",
   "metadata": {},
   "outputs": [],
   "source": [
    "#pip install transformers"
   ]
  },
  {
   "cell_type": "markdown",
   "id": "3a6d1cb0-af71-4c26-aa1f-17df48e6530c",
   "metadata": {},
   "source": [
    "We will use this sentiment analysis transformer: https://huggingface.co/cardiffnlp/twitter-roberta-base-sentiment-latest"
   ]
  },
  {
   "cell_type": "code",
   "execution_count": null,
   "id": "7ccf3a6f-1fd8-47f0-8799-ca7ea2fbcf6a",
   "metadata": {},
   "outputs": [],
   "source": [
    "import datetime\n",
    "import pytz\n",
    "\n",
    "datetime.datetime.now(pytz.timezone('US/Central')).strftime(\"%a, %d %B %Y %H:%M:%S\")"
   ]
  },
  {
   "cell_type": "code",
   "execution_count": null,
   "id": "5b101d99-609a-4b7b-acd2-764d73d307ec",
   "metadata": {},
   "outputs": [],
   "source": []
  }
 ],
 "metadata": {
  "environment": {
   "kernel": "python3",
   "name": "pytorch-gpu.1-13.m108",
   "type": "gcloud",
   "uri": "gcr.io/deeplearning-platform-release/pytorch-gpu.1-13:m108"
  },
  "kernelspec": {
   "display_name": "Python 3",
   "language": "python",
   "name": "python3"
  },
  "language_info": {
   "codemirror_mode": {
    "name": "ipython",
    "version": 3
   },
   "file_extension": ".py",
   "mimetype": "text/x-python",
   "name": "python",
   "nbconvert_exporter": "python",
   "pygments_lexer": "ipython3",
   "version": "3.7.12"
  }
 },
 "nbformat": 4,
 "nbformat_minor": 5
}
